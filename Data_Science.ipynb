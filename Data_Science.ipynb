{
 "cells": [
  {
   "cell_type": "code",
   "execution_count": 1,
   "metadata": {},
   "outputs": [],
   "source": [
    "import pandas as pd"
   ]
  },
  {
   "cell_type": "code",
   "execution_count": 2,
   "metadata": {},
   "outputs": [],
   "source": [
    "import numpy as np"
   ]
  },
  {
   "cell_type": "code",
   "execution_count": 3,
   "metadata": {},
   "outputs": [],
   "source": [
    "%matplotlib inline\n",
    "import matplotlib.pyplot as plt"
   ]
  },
  {
   "cell_type": "code",
   "execution_count": 4,
   "metadata": {},
   "outputs": [],
   "source": [
    "from sklearn.feature_extraction.text import TfidfVectorizer, CountVectorizer"
   ]
  },
  {
   "cell_type": "code",
   "execution_count": 5,
   "metadata": {},
   "outputs": [],
   "source": [
    "from sklearn.metrics.pairwise import cosine_similarity"
   ]
  },
  {
   "cell_type": "code",
   "execution_count": 6,
   "metadata": {},
   "outputs": [],
   "source": [
    "movies = pd.read_csv(\"ml-20m/movies.csv\")"
   ]
  },
  {
   "cell_type": "code",
   "execution_count": 7,
   "metadata": {},
   "outputs": [],
   "source": [
    "ratings = pd.read_csv(\"ml-20m/ratings.csv\")[['movieId', 'rating']]"
   ]
  },
  {
   "cell_type": "code",
   "execution_count": 8,
   "metadata": {},
   "outputs": [],
   "source": [
    "genome_scores = pd.read_csv(\"ml-20m/genome-scores.csv\")"
   ]
  },
  {
   "cell_type": "code",
   "execution_count": 9,
   "metadata": {},
   "outputs": [],
   "source": [
    "genome_tags = pd.read_csv(\"ml-20m/genome-tags.csv\")"
   ]
  },
  {
   "cell_type": "code",
   "execution_count": 10,
   "metadata": {},
   "outputs": [],
   "source": [
    "imdb_links = pd.read_csv(\"ml-20m/links.csv\")"
   ]
  },
  {
   "cell_type": "code",
   "execution_count": 11,
   "metadata": {},
   "outputs": [],
   "source": [
    "youtube_links = pd.read_csv(\"ml-20m/ml-youtube.csv\")"
   ]
  },
  {
   "cell_type": "code",
   "execution_count": 12,
   "metadata": {},
   "outputs": [],
   "source": [
    "links = pd.merge(imdb_links, youtube_links, on='movieId', how='left')[['movieId', 'imdbId', 'youtubeId', 'tmdbId']]"
   ]
  },
  {
   "cell_type": "code",
   "execution_count": 53,
   "metadata": {},
   "outputs": [
    {
     "data": {
      "text/html": [
       "<div>\n",
       "<style>\n",
       "    .dataframe thead tr:only-child th {\n",
       "        text-align: right;\n",
       "    }\n",
       "\n",
       "    .dataframe thead th {\n",
       "        text-align: left;\n",
       "    }\n",
       "\n",
       "    .dataframe tbody tr th {\n",
       "        vertical-align: top;\n",
       "    }\n",
       "</style>\n",
       "<table border=\"1\" class=\"dataframe\">\n",
       "  <thead>\n",
       "    <tr style=\"text-align: right;\">\n",
       "      <th></th>\n",
       "      <th>movieId</th>\n",
       "      <th>imdbId</th>\n",
       "      <th>youtubeId</th>\n",
       "    </tr>\n",
       "  </thead>\n",
       "  <tbody>\n",
       "    <tr>\n",
       "      <th>0</th>\n",
       "      <td>1</td>\n",
       "      <td>114709</td>\n",
       "      <td>K26_sDKnvMU</td>\n",
       "    </tr>\n",
       "    <tr>\n",
       "      <th>1</th>\n",
       "      <td>2</td>\n",
       "      <td>113497</td>\n",
       "      <td>3LPANjHlPxo</td>\n",
       "    </tr>\n",
       "    <tr>\n",
       "      <th>2</th>\n",
       "      <td>3</td>\n",
       "      <td>113228</td>\n",
       "      <td>rEnOoWs3FuA</td>\n",
       "    </tr>\n",
       "    <tr>\n",
       "      <th>3</th>\n",
       "      <td>4</td>\n",
       "      <td>114885</td>\n",
       "      <td>j9xml1CxgXI</td>\n",
       "    </tr>\n",
       "    <tr>\n",
       "      <th>4</th>\n",
       "      <td>5</td>\n",
       "      <td>113041</td>\n",
       "      <td>ltwvKLnj1B4</td>\n",
       "    </tr>\n",
       "  </tbody>\n",
       "</table>\n",
       "</div>"
      ],
      "text/plain": [
       "   movieId  imdbId    youtubeId\n",
       "0        1  114709  K26_sDKnvMU\n",
       "1        2  113497  3LPANjHlPxo\n",
       "2        3  113228  rEnOoWs3FuA\n",
       "3        4  114885  j9xml1CxgXI\n",
       "4        5  113041  ltwvKLnj1B4"
      ]
     },
     "execution_count": 53,
     "metadata": {},
     "output_type": "execute_result"
    }
   ],
   "source": [
    "links.head()"
   ]
  },
  {
   "cell_type": "code",
   "execution_count": 14,
   "metadata": {},
   "outputs": [
    {
     "data": {
      "text/html": [
       "<div>\n",
       "<style>\n",
       "    .dataframe thead tr:only-child th {\n",
       "        text-align: right;\n",
       "    }\n",
       "\n",
       "    .dataframe thead th {\n",
       "        text-align: left;\n",
       "    }\n",
       "\n",
       "    .dataframe tbody tr th {\n",
       "        vertical-align: top;\n",
       "    }\n",
       "</style>\n",
       "<table border=\"1\" class=\"dataframe\">\n",
       "  <thead>\n",
       "    <tr style=\"text-align: right;\">\n",
       "      <th></th>\n",
       "      <th>movieId</th>\n",
       "      <th>tagId</th>\n",
       "      <th>relevance</th>\n",
       "    </tr>\n",
       "  </thead>\n",
       "  <tbody>\n",
       "    <tr>\n",
       "      <th>0</th>\n",
       "      <td>1</td>\n",
       "      <td>1</td>\n",
       "      <td>0.02500</td>\n",
       "    </tr>\n",
       "    <tr>\n",
       "      <th>1</th>\n",
       "      <td>1</td>\n",
       "      <td>2</td>\n",
       "      <td>0.02500</td>\n",
       "    </tr>\n",
       "    <tr>\n",
       "      <th>2</th>\n",
       "      <td>1</td>\n",
       "      <td>3</td>\n",
       "      <td>0.05775</td>\n",
       "    </tr>\n",
       "    <tr>\n",
       "      <th>3</th>\n",
       "      <td>1</td>\n",
       "      <td>4</td>\n",
       "      <td>0.09675</td>\n",
       "    </tr>\n",
       "    <tr>\n",
       "      <th>4</th>\n",
       "      <td>1</td>\n",
       "      <td>5</td>\n",
       "      <td>0.14675</td>\n",
       "    </tr>\n",
       "  </tbody>\n",
       "</table>\n",
       "</div>"
      ],
      "text/plain": [
       "   movieId  tagId  relevance\n",
       "0        1      1    0.02500\n",
       "1        1      2    0.02500\n",
       "2        1      3    0.05775\n",
       "3        1      4    0.09675\n",
       "4        1      5    0.14675"
      ]
     },
     "execution_count": 14,
     "metadata": {},
     "output_type": "execute_result"
    }
   ],
   "source": [
    "genome_scores.head()"
   ]
  },
  {
   "cell_type": "code",
   "execution_count": 15,
   "metadata": {},
   "outputs": [
    {
     "data": {
      "text/html": [
       "<div>\n",
       "<style>\n",
       "    .dataframe thead tr:only-child th {\n",
       "        text-align: right;\n",
       "    }\n",
       "\n",
       "    .dataframe thead th {\n",
       "        text-align: left;\n",
       "    }\n",
       "\n",
       "    .dataframe tbody tr th {\n",
       "        vertical-align: top;\n",
       "    }\n",
       "</style>\n",
       "<table border=\"1\" class=\"dataframe\">\n",
       "  <thead>\n",
       "    <tr style=\"text-align: right;\">\n",
       "      <th></th>\n",
       "      <th>tagId</th>\n",
       "      <th>tag</th>\n",
       "    </tr>\n",
       "  </thead>\n",
       "  <tbody>\n",
       "    <tr>\n",
       "      <th>0</th>\n",
       "      <td>1</td>\n",
       "      <td>007</td>\n",
       "    </tr>\n",
       "    <tr>\n",
       "      <th>1</th>\n",
       "      <td>2</td>\n",
       "      <td>007 (series)</td>\n",
       "    </tr>\n",
       "    <tr>\n",
       "      <th>2</th>\n",
       "      <td>3</td>\n",
       "      <td>18th century</td>\n",
       "    </tr>\n",
       "    <tr>\n",
       "      <th>3</th>\n",
       "      <td>4</td>\n",
       "      <td>1920s</td>\n",
       "    </tr>\n",
       "    <tr>\n",
       "      <th>4</th>\n",
       "      <td>5</td>\n",
       "      <td>1930s</td>\n",
       "    </tr>\n",
       "  </tbody>\n",
       "</table>\n",
       "</div>"
      ],
      "text/plain": [
       "   tagId           tag\n",
       "0      1           007\n",
       "1      2  007 (series)\n",
       "2      3  18th century\n",
       "3      4         1920s\n",
       "4      5         1930s"
      ]
     },
     "execution_count": 15,
     "metadata": {},
     "output_type": "execute_result"
    }
   ],
   "source": [
    "genome_tags.head()"
   ]
  },
  {
   "cell_type": "code",
   "execution_count": 17,
   "metadata": {},
   "outputs": [],
   "source": [
    "movie_tags = pd.merge(genome_scores, genome_tags, on='tagId')[['movieId', 'tag', 'relevance']]"
   ]
  },
  {
   "cell_type": "code",
   "execution_count": 18,
   "metadata": {},
   "outputs": [
    {
     "data": {
      "text/html": [
       "<div>\n",
       "<style>\n",
       "    .dataframe thead tr:only-child th {\n",
       "        text-align: right;\n",
       "    }\n",
       "\n",
       "    .dataframe thead th {\n",
       "        text-align: left;\n",
       "    }\n",
       "\n",
       "    .dataframe tbody tr th {\n",
       "        vertical-align: top;\n",
       "    }\n",
       "</style>\n",
       "<table border=\"1\" class=\"dataframe\">\n",
       "  <thead>\n",
       "    <tr style=\"text-align: right;\">\n",
       "      <th></th>\n",
       "      <th>movieId</th>\n",
       "      <th>tag</th>\n",
       "      <th>relevance</th>\n",
       "    </tr>\n",
       "  </thead>\n",
       "  <tbody>\n",
       "    <tr>\n",
       "      <th>0</th>\n",
       "      <td>1</td>\n",
       "      <td>007</td>\n",
       "      <td>0.02500</td>\n",
       "    </tr>\n",
       "    <tr>\n",
       "      <th>1</th>\n",
       "      <td>2</td>\n",
       "      <td>007</td>\n",
       "      <td>0.03975</td>\n",
       "    </tr>\n",
       "    <tr>\n",
       "      <th>2</th>\n",
       "      <td>3</td>\n",
       "      <td>007</td>\n",
       "      <td>0.04350</td>\n",
       "    </tr>\n",
       "    <tr>\n",
       "      <th>3</th>\n",
       "      <td>4</td>\n",
       "      <td>007</td>\n",
       "      <td>0.03725</td>\n",
       "    </tr>\n",
       "    <tr>\n",
       "      <th>4</th>\n",
       "      <td>5</td>\n",
       "      <td>007</td>\n",
       "      <td>0.04200</td>\n",
       "    </tr>\n",
       "  </tbody>\n",
       "</table>\n",
       "</div>"
      ],
      "text/plain": [
       "   movieId  tag  relevance\n",
       "0        1  007    0.02500\n",
       "1        2  007    0.03975\n",
       "2        3  007    0.04350\n",
       "3        4  007    0.03725\n",
       "4        5  007    0.04200"
      ]
     },
     "execution_count": 18,
     "metadata": {},
     "output_type": "execute_result"
    }
   ],
   "source": [
    "movie_tags.head()"
   ]
  },
  {
   "cell_type": "code",
   "execution_count": null,
   "metadata": {
    "scrolled": true
   },
   "outputs": [
    {
     "data": {
      "text/html": [
       "<div>\n",
       "<style>\n",
       "    .dataframe thead tr:only-child th {\n",
       "        text-align: right;\n",
       "    }\n",
       "\n",
       "    .dataframe thead th {\n",
       "        text-align: left;\n",
       "    }\n",
       "\n",
       "    .dataframe tbody tr th {\n",
       "        vertical-align: top;\n",
       "    }\n",
       "</style>\n",
       "<table border=\"1\" class=\"dataframe\">\n",
       "  <thead>\n",
       "    <tr style=\"text-align: right;\">\n",
       "      <th></th>\n",
       "      <th>movieId</th>\n",
       "      <th>tagId</th>\n",
       "      <th>relevance</th>\n",
       "    </tr>\n",
       "  </thead>\n",
       "  <tbody>\n",
       "    <tr>\n",
       "      <th>0</th>\n",
       "      <td>1</td>\n",
       "      <td>1</td>\n",
       "      <td>0.02500</td>\n",
       "    </tr>\n",
       "    <tr>\n",
       "      <th>1</th>\n",
       "      <td>1</td>\n",
       "      <td>2</td>\n",
       "      <td>0.02500</td>\n",
       "    </tr>\n",
       "    <tr>\n",
       "      <th>2</th>\n",
       "      <td>1</td>\n",
       "      <td>3</td>\n",
       "      <td>0.05775</td>\n",
       "    </tr>\n",
       "    <tr>\n",
       "      <th>3</th>\n",
       "      <td>1</td>\n",
       "      <td>4</td>\n",
       "      <td>0.09675</td>\n",
       "    </tr>\n",
       "    <tr>\n",
       "      <th>4</th>\n",
       "      <td>1</td>\n",
       "      <td>5</td>\n",
       "      <td>0.14675</td>\n",
       "    </tr>\n",
       "  </tbody>\n",
       "</table>\n",
       "</div>"
      ],
      "text/plain": [
       "   movieId  tagId  relevance\n",
       "0        1      1    0.02500\n",
       "1        1      2    0.02500\n",
       "2        1      3    0.05775\n",
       "3        1      4    0.09675\n",
       "4        1      5    0.14675"
      ]
     },
     "execution_count": 19,
     "metadata": {},
     "output_type": "execute_result"
    }
   ],
   "source": [
    "genome_scores.head()"
   ]
  },
  {
   "cell_type": "code",
   "execution_count": null,
   "metadata": {},
   "outputs": [],
   "source": [
    "table = genome_scores[:].pivot_table('relevance', index='movieId', columns='tagId', aggfunc='mean')"
   ]
  },
  {
   "cell_type": "code",
   "execution_count": null,
   "metadata": {},
   "outputs": [
    {
     "data": {
      "text/plain": [
       "array([[<matplotlib.axes._subplots.AxesSubplot object at 0x00000254B323C550>]],\n",
       "      dtype=object)"
      ]
     },
     "execution_count": 21,
     "metadata": {},
     "output_type": "execute_result"
    },
    {
     "data": {
      "image/png": "[encoded data removed]",
      "text/plain": [
       "<Figure size 432x288 with 1 Axes>"
      ]
     },
     "metadata": {
      "needs_background": "light"
     },
     "output_type": "display_data"
    }
   ],
   "source": [
    "table[:1].T.hist()"
   ]
  },
  {
   "cell_type": "code",
   "execution_count": null,
   "metadata": {},
   "outputs": [],
   "source": [
    "movie_tags = genome_scores[genome_scores.relevance > 0.3][['movieId', 'tagId']]"
   ]
  },
  {
   "cell_type": "code",
   "execution_count": null,
   "metadata": {},
   "outputs": [],
   "source": [
    "movie_tags = pd.merge(movie_tags, genome_tags, on='tagId', how='left')[['movieId', 'tagId']]"
   ]
  },
  {
   "cell_type": "code",
   "execution_count": null,
   "metadata": {},
   "outputs": [
    {
     "data": {
      "text/html": [
       "<div>\n",
       "<style>\n",
       "    .dataframe thead tr:only-child th {\n",
       "        text-align: right;\n",
       "    }\n",
       "\n",
       "    .dataframe thead th {\n",
       "        text-align: left;\n",
       "    }\n",
       "\n",
       "    .dataframe tbody tr th {\n",
       "        vertical-align: top;\n",
       "    }\n",
       "</style>\n",
       "<table border=\"1\" class=\"dataframe\">\n",
       "  <thead>\n",
       "    <tr style=\"text-align: right;\">\n",
       "      <th></th>\n",
       "      <th>movieId</th>\n",
       "      <th>tagId</th>\n",
       "    </tr>\n",
       "  </thead>\n",
       "  <tbody>\n",
       "    <tr>\n",
       "      <th>0</th>\n",
       "      <td>1</td>\n",
       "      <td>11</td>\n",
       "    </tr>\n",
       "    <tr>\n",
       "      <th>1</th>\n",
       "      <td>1</td>\n",
       "      <td>19</td>\n",
       "    </tr>\n",
       "    <tr>\n",
       "      <th>2</th>\n",
       "      <td>1</td>\n",
       "      <td>21</td>\n",
       "    </tr>\n",
       "    <tr>\n",
       "      <th>3</th>\n",
       "      <td>1</td>\n",
       "      <td>29</td>\n",
       "    </tr>\n",
       "    <tr>\n",
       "      <th>4</th>\n",
       "      <td>1</td>\n",
       "      <td>30</td>\n",
       "    </tr>\n",
       "  </tbody>\n",
       "</table>\n",
       "</div>"
      ],
      "text/plain": [
       "   movieId  tagId\n",
       "0        1     11\n",
       "1        1     19\n",
       "2        1     21\n",
       "3        1     29\n",
       "4        1     30"
      ]
     },
     "execution_count": 24,
     "metadata": {},
     "output_type": "execute_result"
    }
   ],
   "source": [
    "movie_tags.head(5)"
   ]
  },
  {
   "cell_type": "code",
   "execution_count": null,
   "metadata": {},
   "outputs": [],
   "source": [
    "movie_tags['tagId'] = movie_tags.tagId.astype(str)"
   ]
  },
  {
   "cell_type": "code",
   "execution_count": null,
   "metadata": {},
   "outputs": [],
   "source": [
    "def concatenate_tags(tags):\n",
    "    tags_as_str = ' '.join(set(tags))\n",
    "    return tags_as_str"
   ]
  },
  {
   "cell_type": "code",
   "execution_count": null,
   "metadata": {},
   "outputs": [
    {
     "name": "stderr",
     "output_type": "stream",
     "text": [
      "C:\\Users\\arjun\\Anaconda3\\envs\\tensorflow_gpu\\lib\\site-packages\\ipykernel_launcher.py:2: FutureWarning: using a dict on a Series for aggregation\n",
      "is deprecated and will be removed in a future version\n",
      "  \n"
     ]
    }
   ],
   "source": [
    "tags_per_movie = movie_tags.groupby('movieId')['tagId'].agg({\n",
    "    'movie_tags': concatenate_tags\n",
    "}).reset_index()"
   ]
  },
  {
   "cell_type": "code",
   "execution_count": null,
   "metadata": {},
   "outputs": [
    {
     "data": {
      "text/html": [
       "<div>\n",
       "<style>\n",
       "    .dataframe thead tr:only-child th {\n",
       "        text-align: right;\n",
       "    }\n",
       "\n",
       "    .dataframe thead th {\n",
       "        text-align: left;\n",
       "    }\n",
       "\n",
       "    .dataframe tbody tr th {\n",
       "        vertical-align: top;\n",
       "    }\n",
       "</style>\n",
       "<table border=\"1\" class=\"dataframe\">\n",
       "  <thead>\n",
       "    <tr style=\"text-align: right;\">\n",
       "      <th></th>\n",
       "      <th>movieId</th>\n",
       "      <th>movie_tags</th>\n",
       "    </tr>\n",
       "  </thead>\n",
       "  <tbody>\n",
       "    <tr>\n",
       "      <th>0</th>\n",
       "      <td>1</td>\n",
       "      <td>446 94 971 338 669 627 1025 170 304 519 554 75...</td>\n",
       "    </tr>\n",
       "    <tr>\n",
       "      <th>1</th>\n",
       "      <td>2</td>\n",
       "      <td>568 971 304 752 530 367 388 193 468 396 244 29...</td>\n",
       "    </tr>\n",
       "    <tr>\n",
       "      <th>2</th>\n",
       "      <td>3</td>\n",
       "      <td>451 264 777 121 188 742 919 971 397 374 277 62...</td>\n",
       "    </tr>\n",
       "    <tr>\n",
       "      <th>3</th>\n",
       "      <td>4</td>\n",
       "      <td>201 497 777 121 188 169 742 913 179 328 556 82...</td>\n",
       "    </tr>\n",
       "    <tr>\n",
       "      <th>4</th>\n",
       "      <td>5</td>\n",
       "      <td>451 264 497 777 1040 121 188 450 742 919 971 1...</td>\n",
       "    </tr>\n",
       "  </tbody>\n",
       "</table>\n",
       "</div>"
      ],
      "text/plain": [
       "   movieId                                         movie_tags\n",
       "0        1  446 94 971 338 669 627 1025 170 304 519 554 75...\n",
       "1        2  568 971 304 752 530 367 388 193 468 396 244 29...\n",
       "2        3  451 264 777 121 188 742 919 971 397 374 277 62...\n",
       "3        4  201 497 777 121 188 169 742 913 179 328 556 82...\n",
       "4        5  451 264 497 777 1040 121 188 450 742 919 971 1..."
      ]
     },
     "execution_count": 28,
     "metadata": {},
     "output_type": "execute_result"
    }
   ],
   "source": [
    "tags_per_movie.head()"
   ]
  },
  {
   "cell_type": "code",
   "execution_count": null,
   "metadata": {},
   "outputs": [
    {
     "name": "stderr",
     "output_type": "stream",
     "text": [
      "C:\\Users\\arjun\\Anaconda3\\envs\\tensorflow_gpu\\lib\\site-packages\\ipykernel_launcher.py:4: FutureWarning: using a dict on a Series for aggregation\n",
      "is deprecated and will be removed in a future version\n",
      "  after removing the cwd from sys.path.\n"
     ]
    }
   ],
   "source": [
    "avg_ratings = ratings.groupby('movieId')['rating'].agg({\n",
    "    'rating_mean': 'mean',\n",
    "    'rating_median': 'median',\n",
    "    'num_ratings': 'size'\n",
    "}).reset_index()"
   ]
  },
  {
   "cell_type": "code",
   "execution_count": null,
   "metadata": {},
   "outputs": [
    {
     "data": {
      "text/html": [
       "<div>\n",
       "<style>\n",
       "    .dataframe thead tr:only-child th {\n",
       "        text-align: right;\n",
       "    }\n",
       "\n",
       "    .dataframe thead th {\n",
       "        text-align: left;\n",
       "    }\n",
       "\n",
       "    .dataframe tbody tr th {\n",
       "        vertical-align: top;\n",
       "    }\n",
       "</style>\n",
       "<table border=\"1\" class=\"dataframe\">\n",
       "  <thead>\n",
       "    <tr style=\"text-align: right;\">\n",
       "      <th></th>\n",
       "      <th>movieId</th>\n",
       "      <th>rating_mean</th>\n",
       "      <th>rating_median</th>\n",
       "      <th>num_ratings</th>\n",
       "    </tr>\n",
       "  </thead>\n",
       "  <tbody>\n",
       "    <tr>\n",
       "      <th>0</th>\n",
       "      <td>1</td>\n",
       "      <td>3.921240</td>\n",
       "      <td>4.0</td>\n",
       "      <td>49695</td>\n",
       "    </tr>\n",
       "    <tr>\n",
       "      <th>1</th>\n",
       "      <td>2</td>\n",
       "      <td>3.211977</td>\n",
       "      <td>3.0</td>\n",
       "      <td>22243</td>\n",
       "    </tr>\n",
       "    <tr>\n",
       "      <th>2</th>\n",
       "      <td>3</td>\n",
       "      <td>3.151040</td>\n",
       "      <td>3.0</td>\n",
       "      <td>12735</td>\n",
       "    </tr>\n",
       "    <tr>\n",
       "      <th>3</th>\n",
       "      <td>4</td>\n",
       "      <td>2.861393</td>\n",
       "      <td>3.0</td>\n",
       "      <td>2756</td>\n",
       "    </tr>\n",
       "    <tr>\n",
       "      <th>4</th>\n",
       "      <td>5</td>\n",
       "      <td>3.064592</td>\n",
       "      <td>3.0</td>\n",
       "      <td>12161</td>\n",
       "    </tr>\n",
       "  </tbody>\n",
       "</table>\n",
       "</div>"
      ],
      "text/plain": [
       "   movieId  rating_mean  rating_median  num_ratings\n",
       "0        1     3.921240            4.0        49695\n",
       "1        2     3.211977            3.0        22243\n",
       "2        3     3.151040            3.0        12735\n",
       "3        4     2.861393            3.0         2756\n",
       "4        5     3.064592            3.0        12161"
      ]
     },
     "execution_count": 30,
     "metadata": {},
     "output_type": "execute_result"
    }
   ],
   "source": [
    "avg_ratings.head()"
   ]
  },
  {
   "cell_type": "code",
   "execution_count": null,
   "metadata": {},
   "outputs": [],
   "source": [
    "dataset = pd.merge(movies, avg_ratings, on='movieId', how='left')"
   ]
  },
  {
   "cell_type": "code",
   "execution_count": null,
   "metadata": {},
   "outputs": [],
   "source": [
    "dataset = pd.merge(dataset, tags_per_movie, on='movieId', how='left')"
   ]
  },
  {
   "cell_type": "code",
   "execution_count": null,
   "metadata": {},
   "outputs": [
    {
     "data": {
      "text/html": [
       "<div>\n",
       "<style>\n",
       "    .dataframe thead tr:only-child th {\n",
       "        text-align: right;\n",
       "    }\n",
       "\n",
       "    .dataframe thead th {\n",
       "        text-align: left;\n",
       "    }\n",
       "\n",
       "    .dataframe tbody tr th {\n",
       "        vertical-align: top;\n",
       "    }\n",
       "</style>\n",
       "<table border=\"1\" class=\"dataframe\">\n",
       "  <thead>\n",
       "    <tr style=\"text-align: right;\">\n",
       "      <th></th>\n",
       "      <th>movieId</th>\n",
       "      <th>title</th>\n",
       "      <th>genres</th>\n",
       "      <th>rating_mean</th>\n",
       "      <th>rating_median</th>\n",
       "      <th>num_ratings</th>\n",
       "      <th>movie_tags</th>\n",
       "    </tr>\n",
       "  </thead>\n",
       "  <tbody>\n",
       "    <tr>\n",
       "      <th>0</th>\n",
       "      <td>1</td>\n",
       "      <td>Toy Story (1995)</td>\n",
       "      <td>Adventure|Animation|Children|Comedy|Fantasy</td>\n",
       "      <td>3.921240</td>\n",
       "      <td>4.0</td>\n",
       "      <td>49695.0</td>\n",
       "      <td>446 94 971 338 669 627 1025 170 304 519 554 75...</td>\n",
       "    </tr>\n",
       "    <tr>\n",
       "      <th>1</th>\n",
       "      <td>2</td>\n",
       "      <td>Jumanji (1995)</td>\n",
       "      <td>Adventure|Children|Fantasy</td>\n",
       "      <td>3.211977</td>\n",
       "      <td>3.0</td>\n",
       "      <td>22243.0</td>\n",
       "      <td>568 971 304 752 530 367 388 193 468 396 244 29...</td>\n",
       "    </tr>\n",
       "    <tr>\n",
       "      <th>2</th>\n",
       "      <td>3</td>\n",
       "      <td>Grumpier Old Men (1995)</td>\n",
       "      <td>Comedy|Romance</td>\n",
       "      <td>3.151040</td>\n",
       "      <td>3.0</td>\n",
       "      <td>12735.0</td>\n",
       "      <td>451 264 777 121 188 742 919 971 397 374 277 62...</td>\n",
       "    </tr>\n",
       "    <tr>\n",
       "      <th>3</th>\n",
       "      <td>4</td>\n",
       "      <td>Waiting to Exhale (1995)</td>\n",
       "      <td>Comedy|Drama|Romance</td>\n",
       "      <td>2.861393</td>\n",
       "      <td>3.0</td>\n",
       "      <td>2756.0</td>\n",
       "      <td>201 497 777 121 188 169 742 913 179 328 556 82...</td>\n",
       "    </tr>\n",
       "    <tr>\n",
       "      <th>4</th>\n",
       "      <td>5</td>\n",
       "      <td>Father of the Bride Part II (1995)</td>\n",
       "      <td>Comedy</td>\n",
       "      <td>3.064592</td>\n",
       "      <td>3.0</td>\n",
       "      <td>12161.0</td>\n",
       "      <td>451 264 497 777 1040 121 188 450 742 919 971 1...</td>\n",
       "    </tr>\n",
       "  </tbody>\n",
       "</table>\n",
       "</div>"
      ],
      "text/plain": [
       "   movieId                               title  \\\n",
       "0        1                    Toy Story (1995)   \n",
       "1        2                      Jumanji (1995)   \n",
       "2        3             Grumpier Old Men (1995)   \n",
       "3        4            Waiting to Exhale (1995)   \n",
       "4        5  Father of the Bride Part II (1995)   \n",
       "\n",
       "                                        genres  rating_mean  rating_median  \\\n",
       "0  Adventure|Animation|Children|Comedy|Fantasy     3.921240            4.0   \n",
       "1                   Adventure|Children|Fantasy     3.211977            3.0   \n",
       "2                               Comedy|Romance     3.151040            3.0   \n",
       "3                         Comedy|Drama|Romance     2.861393            3.0   \n",
       "4                                       Comedy     3.064592            3.0   \n",
       "\n",
       "   num_ratings                                         movie_tags  \n",
       "0      49695.0  446 94 971 338 669 627 1025 170 304 519 554 75...  \n",
       "1      22243.0  568 971 304 752 530 367 388 193 468 396 244 29...  \n",
       "2      12735.0  451 264 777 121 188 742 919 971 397 374 277 62...  \n",
       "3       2756.0  201 497 777 121 188 169 742 913 179 328 556 82...  \n",
       "4      12161.0  451 264 497 777 1040 121 188 450 742 919 971 1...  "
      ]
     },
     "execution_count": 33,
     "metadata": {},
     "output_type": "execute_result"
    }
   ],
   "source": [
    "dataset.head()"
   ]
  },
  {
   "cell_type": "code",
   "execution_count": null,
   "metadata": {},
   "outputs": [
    {
     "data": {
      "text/html": [
       "<div>\n",
       "<style>\n",
       "    .dataframe thead tr:only-child th {\n",
       "        text-align: right;\n",
       "    }\n",
       "\n",
       "    .dataframe thead th {\n",
       "        text-align: left;\n",
       "    }\n",
       "\n",
       "    .dataframe tbody tr th {\n",
       "        vertical-align: top;\n",
       "    }\n",
       "</style>\n",
       "<table border=\"1\" class=\"dataframe\">\n",
       "  <thead>\n",
       "    <tr style=\"text-align: right;\">\n",
       "      <th></th>\n",
       "      <th>movieId</th>\n",
       "      <th>title</th>\n",
       "      <th>genres</th>\n",
       "      <th>rating_mean</th>\n",
       "      <th>rating_median</th>\n",
       "      <th>num_ratings</th>\n",
       "      <th>movie_tags</th>\n",
       "    </tr>\n",
       "  </thead>\n",
       "  <tbody>\n",
       "    <tr>\n",
       "      <th>50</th>\n",
       "      <td>51</td>\n",
       "      <td>Guardian Angel (1994)</td>\n",
       "      <td>Action|Drama|Thriller</td>\n",
       "      <td>2.555556</td>\n",
       "      <td>3.00</td>\n",
       "      <td>27.0</td>\n",
       "      <td>NaN</td>\n",
       "    </tr>\n",
       "    <tr>\n",
       "      <th>107</th>\n",
       "      <td>109</td>\n",
       "      <td>Headless Body in Topless Bar (1995)</td>\n",
       "      <td>Comedy|Drama|Thriller</td>\n",
       "      <td>2.062500</td>\n",
       "      <td>1.75</td>\n",
       "      <td>16.0</td>\n",
       "      <td>NaN</td>\n",
       "    </tr>\n",
       "    <tr>\n",
       "      <th>113</th>\n",
       "      <td>115</td>\n",
       "      <td>Happiness Is in the Field (Bonheur est dans le...</td>\n",
       "      <td>Comedy</td>\n",
       "      <td>3.407895</td>\n",
       "      <td>4.00</td>\n",
       "      <td>38.0</td>\n",
       "      <td>NaN</td>\n",
       "    </tr>\n",
       "    <tr>\n",
       "      <th>122</th>\n",
       "      <td>124</td>\n",
       "      <td>Star Maker, The (Uomo delle stelle, L') (1995)</td>\n",
       "      <td>Drama</td>\n",
       "      <td>3.498433</td>\n",
       "      <td>4.00</td>\n",
       "      <td>319.0</td>\n",
       "      <td>NaN</td>\n",
       "    </tr>\n",
       "    <tr>\n",
       "      <th>125</th>\n",
       "      <td>127</td>\n",
       "      <td>Silences of the Palace, The (Saimt el Qusur) (...</td>\n",
       "      <td>Drama</td>\n",
       "      <td>3.256098</td>\n",
       "      <td>3.00</td>\n",
       "      <td>41.0</td>\n",
       "      <td>NaN</td>\n",
       "    </tr>\n",
       "  </tbody>\n",
       "</table>\n",
       "</div>"
      ],
      "text/plain": [
       "     movieId                                              title  \\\n",
       "50        51                              Guardian Angel (1994)   \n",
       "107      109                Headless Body in Topless Bar (1995)   \n",
       "113      115  Happiness Is in the Field (Bonheur est dans le...   \n",
       "122      124     Star Maker, The (Uomo delle stelle, L') (1995)   \n",
       "125      127  Silences of the Palace, The (Saimt el Qusur) (...   \n",
       "\n",
       "                    genres  rating_mean  rating_median  num_ratings movie_tags  \n",
       "50   Action|Drama|Thriller     2.555556           3.00         27.0        NaN  \n",
       "107  Comedy|Drama|Thriller     2.062500           1.75         16.0        NaN  \n",
       "113                 Comedy     3.407895           4.00         38.0        NaN  \n",
       "122                  Drama     3.498433           4.00        319.0        NaN  \n",
       "125                  Drama     3.256098           3.00         41.0        NaN  "
      ]
     },
     "execution_count": 34,
     "metadata": {},
     "output_type": "execute_result"
    }
   ],
   "source": [
    "dataset[dataset.movie_tags.isnull()].head()"
   ]
  },
  {
   "cell_type": "code",
   "execution_count": null,
   "metadata": {},
   "outputs": [
    {
     "data": {
      "text/html": [
       "<div>\n",
       "<style>\n",
       "    .dataframe thead tr:only-child th {\n",
       "        text-align: right;\n",
       "    }\n",
       "\n",
       "    .dataframe thead th {\n",
       "        text-align: left;\n",
       "    }\n",
       "\n",
       "    .dataframe tbody tr th {\n",
       "        vertical-align: top;\n",
       "    }\n",
       "</style>\n",
       "<table border=\"1\" class=\"dataframe\">\n",
       "  <thead>\n",
       "    <tr style=\"text-align: right;\">\n",
       "      <th></th>\n",
       "      <th>movieId</th>\n",
       "      <th>title</th>\n",
       "      <th>genres</th>\n",
       "      <th>rating_mean</th>\n",
       "      <th>rating_median</th>\n",
       "      <th>num_ratings</th>\n",
       "      <th>movie_tags</th>\n",
       "    </tr>\n",
       "  </thead>\n",
       "  <tbody>\n",
       "    <tr>\n",
       "      <th>8555</th>\n",
       "      <td>26018</td>\n",
       "      <td>Chase a Crooked Shadow (1958)</td>\n",
       "      <td>Crime|Film-Noir|Mystery|Thriller</td>\n",
       "      <td>NaN</td>\n",
       "      <td>NaN</td>\n",
       "      <td>NaN</td>\n",
       "      <td>NaN</td>\n",
       "    </tr>\n",
       "    <tr>\n",
       "      <th>8933</th>\n",
       "      <td>26580</td>\n",
       "      <td>Park Is Mine, The (1986)</td>\n",
       "      <td>Action|Drama|Thriller</td>\n",
       "      <td>NaN</td>\n",
       "      <td>NaN</td>\n",
       "      <td>NaN</td>\n",
       "      <td>NaN</td>\n",
       "    </tr>\n",
       "    <tr>\n",
       "      <th>9249</th>\n",
       "      <td>27249</td>\n",
       "      <td>Trumpet of the Swan, The (2001)</td>\n",
       "      <td>Animation|Drama|Musical</td>\n",
       "      <td>NaN</td>\n",
       "      <td>NaN</td>\n",
       "      <td>NaN</td>\n",
       "      <td>NaN</td>\n",
       "    </tr>\n",
       "    <tr>\n",
       "      <th>9315</th>\n",
       "      <td>27396</td>\n",
       "      <td>Gentleman's Game, A (2002)</td>\n",
       "      <td>Drama</td>\n",
       "      <td>NaN</td>\n",
       "      <td>NaN</td>\n",
       "      <td>NaN</td>\n",
       "      <td>NaN</td>\n",
       "    </tr>\n",
       "    <tr>\n",
       "      <th>9770</th>\n",
       "      <td>31797</td>\n",
       "      <td>White Banners (1938)</td>\n",
       "      <td>Drama</td>\n",
       "      <td>NaN</td>\n",
       "      <td>NaN</td>\n",
       "      <td>NaN</td>\n",
       "      <td>NaN</td>\n",
       "    </tr>\n",
       "  </tbody>\n",
       "</table>\n",
       "</div>"
      ],
      "text/plain": [
       "      movieId                            title  \\\n",
       "8555    26018    Chase a Crooked Shadow (1958)   \n",
       "8933    26580         Park Is Mine, The (1986)   \n",
       "9249    27249  Trumpet of the Swan, The (2001)   \n",
       "9315    27396       Gentleman's Game, A (2002)   \n",
       "9770    31797             White Banners (1938)   \n",
       "\n",
       "                                genres  rating_mean  rating_median  \\\n",
       "8555  Crime|Film-Noir|Mystery|Thriller          NaN            NaN   \n",
       "8933             Action|Drama|Thriller          NaN            NaN   \n",
       "9249           Animation|Drama|Musical          NaN            NaN   \n",
       "9315                             Drama          NaN            NaN   \n",
       "9770                             Drama          NaN            NaN   \n",
       "\n",
       "      num_ratings movie_tags  \n",
       "8555          NaN        NaN  \n",
       "8933          NaN        NaN  \n",
       "9249          NaN        NaN  \n",
       "9315          NaN        NaN  \n",
       "9770          NaN        NaN  "
      ]
     },
     "execution_count": 35,
     "metadata": {},
     "output_type": "execute_result"
    }
   ],
   "source": [
    "dataset[dataset.rating_mean.isnull()].head()"
   ]
  },
  {
   "cell_type": "code",
   "execution_count": null,
   "metadata": {},
   "outputs": [],
   "source": [
    "dataset_with_tags = dataset[~dataset.movie_tags.isnull()].reset_index(drop=True)"
   ]
  },
  {
   "cell_type": "markdown",
   "metadata": {},
   "source": [
    "# Count Vectorizer"
   ]
  },
  {
   "cell_type": "code",
   "execution_count": null,
   "metadata": {},
   "outputs": [],
   "source": [
    "c_vectorizer = CountVectorizer()"
   ]
  },
  {
   "cell_type": "code",
   "execution_count": null,
   "metadata": {},
   "outputs": [],
   "source": [
    "c_vectorized = c_vectorizer.fit_transform(dataset_with_tags.movie_tags)"
   ]
  },
  {
   "cell_type": "code",
   "execution_count": null,
   "metadata": {},
   "outputs": [],
   "source": [
    "c_vectorized_m2m = pd.DataFrame(cosine_similarity(c_vectorized))"
   ]
  },
  {
   "cell_type": "code",
   "execution_count": null,
   "metadata": {},
   "outputs": [
    {
     "data": {
      "text/html": [
       "<div>\n",
       "<style>\n",
       "    .dataframe thead tr:only-child th {\n",
       "        text-align: right;\n",
       "    }\n",
       "\n",
       "    .dataframe thead th {\n",
       "        text-align: left;\n",
       "    }\n",
       "\n",
       "    .dataframe tbody tr th {\n",
       "        vertical-align: top;\n",
       "    }\n",
       "</style>\n",
       "<table border=\"1\" class=\"dataframe\">\n",
       "  <thead>\n",
       "    <tr style=\"text-align: right;\">\n",
       "      <th></th>\n",
       "      <th>0</th>\n",
       "      <th>1</th>\n",
       "      <th>2</th>\n",
       "      <th>3</th>\n",
       "      <th>4</th>\n",
       "      <th>5</th>\n",
       "      <th>6</th>\n",
       "      <th>7</th>\n",
       "      <th>8</th>\n",
       "      <th>9</th>\n",
       "      <th>...</th>\n",
       "      <th>10371</th>\n",
       "      <th>10372</th>\n",
       "      <th>10373</th>\n",
       "      <th>10374</th>\n",
       "      <th>10375</th>\n",
       "      <th>10376</th>\n",
       "      <th>10377</th>\n",
       "      <th>10378</th>\n",
       "      <th>10379</th>\n",
       "      <th>10380</th>\n",
       "    </tr>\n",
       "  </thead>\n",
       "  <tbody>\n",
       "    <tr>\n",
       "      <th>0</th>\n",
       "      <td>1.000000</td>\n",
       "      <td>0.524981</td>\n",
       "      <td>0.346501</td>\n",
       "      <td>0.277201</td>\n",
       "      <td>0.361600</td>\n",
       "      <td>0.440813</td>\n",
       "      <td>0.372558</td>\n",
       "      <td>0.379545</td>\n",
       "      <td>0.211700</td>\n",
       "      <td>0.383426</td>\n",
       "      <td>...</td>\n",
       "      <td>0.422813</td>\n",
       "      <td>0.370205</td>\n",
       "      <td>0.228502</td>\n",
       "      <td>0.328025</td>\n",
       "      <td>0.518853</td>\n",
       "      <td>0.138795</td>\n",
       "      <td>0.278589</td>\n",
       "      <td>0.276940</td>\n",
       "      <td>0.332991</td>\n",
       "      <td>0.381005</td>\n",
       "    </tr>\n",
       "    <tr>\n",
       "      <th>1</th>\n",
       "      <td>0.524981</td>\n",
       "      <td>1.000000</td>\n",
       "      <td>0.301726</td>\n",
       "      <td>0.264010</td>\n",
       "      <td>0.395118</td>\n",
       "      <td>0.251902</td>\n",
       "      <td>0.315404</td>\n",
       "      <td>0.456612</td>\n",
       "      <td>0.353730</td>\n",
       "      <td>0.457693</td>\n",
       "      <td>...</td>\n",
       "      <td>0.393106</td>\n",
       "      <td>0.397793</td>\n",
       "      <td>0.300919</td>\n",
       "      <td>0.387492</td>\n",
       "      <td>0.473573</td>\n",
       "      <td>0.264381</td>\n",
       "      <td>0.250233</td>\n",
       "      <td>0.226892</td>\n",
       "      <td>0.158573</td>\n",
       "      <td>0.354357</td>\n",
       "    </tr>\n",
       "    <tr>\n",
       "      <th>2</th>\n",
       "      <td>0.346501</td>\n",
       "      <td>0.301726</td>\n",
       "      <td>1.000000</td>\n",
       "      <td>0.421053</td>\n",
       "      <td>0.566282</td>\n",
       "      <td>0.253879</td>\n",
       "      <td>0.534456</td>\n",
       "      <td>0.407096</td>\n",
       "      <td>0.236940</td>\n",
       "      <td>0.380504</td>\n",
       "      <td>...</td>\n",
       "      <td>0.401394</td>\n",
       "      <td>0.285967</td>\n",
       "      <td>0.269953</td>\n",
       "      <td>0.297406</td>\n",
       "      <td>0.430997</td>\n",
       "      <td>0.172172</td>\n",
       "      <td>0.240824</td>\n",
       "      <td>0.364117</td>\n",
       "      <td>0.263435</td>\n",
       "      <td>0.304307</td>\n",
       "    </tr>\n",
       "    <tr>\n",
       "      <th>3</th>\n",
       "      <td>0.277201</td>\n",
       "      <td>0.264010</td>\n",
       "      <td>0.421053</td>\n",
       "      <td>1.000000</td>\n",
       "      <td>0.402358</td>\n",
       "      <td>0.224585</td>\n",
       "      <td>0.518737</td>\n",
       "      <td>0.424795</td>\n",
       "      <td>0.217195</td>\n",
       "      <td>0.244609</td>\n",
       "      <td>...</td>\n",
       "      <td>0.401394</td>\n",
       "      <td>0.319610</td>\n",
       "      <td>0.269953</td>\n",
       "      <td>0.270369</td>\n",
       "      <td>0.387897</td>\n",
       "      <td>0.196768</td>\n",
       "      <td>0.276948</td>\n",
       "      <td>0.253299</td>\n",
       "      <td>0.284510</td>\n",
       "      <td>0.275778</td>\n",
       "    </tr>\n",
       "    <tr>\n",
       "      <th>4</th>\n",
       "      <td>0.361600</td>\n",
       "      <td>0.395118</td>\n",
       "      <td>0.566282</td>\n",
       "      <td>0.402358</td>\n",
       "      <td>1.000000</td>\n",
       "      <td>0.157591</td>\n",
       "      <td>0.574150</td>\n",
       "      <td>0.345796</td>\n",
       "      <td>0.251577</td>\n",
       "      <td>0.311665</td>\n",
       "      <td>...</td>\n",
       "      <td>0.477334</td>\n",
       "      <td>0.414370</td>\n",
       "      <td>0.229304</td>\n",
       "      <td>0.287072</td>\n",
       "      <td>0.463725</td>\n",
       "      <td>0.125354</td>\n",
       "      <td>0.225018</td>\n",
       "      <td>0.282395</td>\n",
       "      <td>0.214817</td>\n",
       "      <td>0.306951</td>\n",
       "    </tr>\n",
       "    <tr>\n",
       "      <th>5</th>\n",
       "      <td>0.440813</td>\n",
       "      <td>0.251902</td>\n",
       "      <td>0.253879</td>\n",
       "      <td>0.224585</td>\n",
       "      <td>0.157591</td>\n",
       "      <td>1.000000</td>\n",
       "      <td>0.218727</td>\n",
       "      <td>0.236433</td>\n",
       "      <td>0.263752</td>\n",
       "      <td>0.355490</td>\n",
       "      <td>...</td>\n",
       "      <td>0.215961</td>\n",
       "      <td>0.234064</td>\n",
       "      <td>0.208681</td>\n",
       "      <td>0.346109</td>\n",
       "      <td>0.223893</td>\n",
       "      <td>0.219034</td>\n",
       "      <td>0.361903</td>\n",
       "      <td>0.229095</td>\n",
       "      <td>0.451599</td>\n",
       "      <td>0.370500</td>\n",
       "    </tr>\n",
       "    <tr>\n",
       "      <th>6</th>\n",
       "      <td>0.372558</td>\n",
       "      <td>0.315404</td>\n",
       "      <td>0.534456</td>\n",
       "      <td>0.518737</td>\n",
       "      <td>0.574150</td>\n",
       "      <td>0.218727</td>\n",
       "      <td>1.000000</td>\n",
       "      <td>0.348899</td>\n",
       "      <td>0.194606</td>\n",
       "      <td>0.292227</td>\n",
       "      <td>...</td>\n",
       "      <td>0.455556</td>\n",
       "      <td>0.301443</td>\n",
       "      <td>0.228440</td>\n",
       "      <td>0.218026</td>\n",
       "      <td>0.411919</td>\n",
       "      <td>0.176304</td>\n",
       "      <td>0.334457</td>\n",
       "      <td>0.212771</td>\n",
       "      <td>0.283246</td>\n",
       "      <td>0.306741</td>\n",
       "    </tr>\n",
       "    <tr>\n",
       "      <th>7</th>\n",
       "      <td>0.379545</td>\n",
       "      <td>0.456612</td>\n",
       "      <td>0.407096</td>\n",
       "      <td>0.424795</td>\n",
       "      <td>0.345796</td>\n",
       "      <td>0.236433</td>\n",
       "      <td>0.348899</td>\n",
       "      <td>1.000000</td>\n",
       "      <td>0.338648</td>\n",
       "      <td>0.383886</td>\n",
       "      <td>...</td>\n",
       "      <td>0.323970</td>\n",
       "      <td>0.322451</td>\n",
       "      <td>0.317744</td>\n",
       "      <td>0.395520</td>\n",
       "      <td>0.449323</td>\n",
       "      <td>0.322590</td>\n",
       "      <td>0.242965</td>\n",
       "      <td>0.271523</td>\n",
       "      <td>0.223253</td>\n",
       "      <td>0.287824</td>\n",
       "    </tr>\n",
       "    <tr>\n",
       "      <th>8</th>\n",
       "      <td>0.211700</td>\n",
       "      <td>0.353730</td>\n",
       "      <td>0.236940</td>\n",
       "      <td>0.217195</td>\n",
       "      <td>0.251577</td>\n",
       "      <td>0.263752</td>\n",
       "      <td>0.194606</td>\n",
       "      <td>0.338648</td>\n",
       "      <td>1.000000</td>\n",
       "      <td>0.443537</td>\n",
       "      <td>...</td>\n",
       "      <td>0.225877</td>\n",
       "      <td>0.265049</td>\n",
       "      <td>0.253185</td>\n",
       "      <td>0.410792</td>\n",
       "      <td>0.242536</td>\n",
       "      <td>0.442909</td>\n",
       "      <td>0.149071</td>\n",
       "      <td>0.160357</td>\n",
       "      <td>0.130454</td>\n",
       "      <td>0.181946</td>\n",
       "    </tr>\n",
       "    <tr>\n",
       "      <th>9</th>\n",
       "      <td>0.383426</td>\n",
       "      <td>0.457693</td>\n",
       "      <td>0.380504</td>\n",
       "      <td>0.244609</td>\n",
       "      <td>0.311665</td>\n",
       "      <td>0.355490</td>\n",
       "      <td>0.292227</td>\n",
       "      <td>0.383886</td>\n",
       "      <td>0.443537</td>\n",
       "      <td>1.000000</td>\n",
       "      <td>...</td>\n",
       "      <td>0.279827</td>\n",
       "      <td>0.299689</td>\n",
       "      <td>0.290423</td>\n",
       "      <td>0.450268</td>\n",
       "      <td>0.311592</td>\n",
       "      <td>0.285779</td>\n",
       "      <td>0.233177</td>\n",
       "      <td>0.245256</td>\n",
       "      <td>0.228543</td>\n",
       "      <td>0.309376</td>\n",
       "    </tr>\n",
       "  </tbody>\n",
       "</table>\n",
       "<p>10 rows × 10381 columns</p>\n",
       "</div>"
      ],
      "text/plain": [
       "      0         1         2         3         4         5         6      \\\n",
       "0  1.000000  0.524981  0.346501  0.277201  0.361600  0.440813  0.372558   \n",
       "1  0.524981  1.000000  0.301726  0.264010  0.395118  0.251902  0.315404   \n",
       "2  0.346501  0.301726  1.000000  0.421053  0.566282  0.253879  0.534456   \n",
       "3  0.277201  0.264010  0.421053  1.000000  0.402358  0.224585  0.518737   \n",
       "4  0.361600  0.395118  0.566282  0.402358  1.000000  0.157591  0.574150   \n",
       "5  0.440813  0.251902  0.253879  0.224585  0.157591  1.000000  0.218727   \n",
       "6  0.372558  0.315404  0.534456  0.518737  0.574150  0.218727  1.000000   \n",
       "7  0.379545  0.456612  0.407096  0.424795  0.345796  0.236433  0.348899   \n",
       "8  0.211700  0.353730  0.236940  0.217195  0.251577  0.263752  0.194606   \n",
       "9  0.383426  0.457693  0.380504  0.244609  0.311665  0.355490  0.292227   \n",
       "\n",
       "      7         8         9        ...        10371     10372     10373  \\\n",
       "0  0.379545  0.211700  0.383426    ...     0.422813  0.370205  0.228502   \n",
       "1  0.456612  0.353730  0.457693    ...     0.393106  0.397793  0.300919   \n",
       "2  0.407096  0.236940  0.380504    ...     0.401394  0.285967  0.269953   \n",
       "3  0.424795  0.217195  0.244609    ...     0.401394  0.319610  0.269953   \n",
       "4  0.345796  0.251577  0.311665    ...     0.477334  0.414370  0.229304   \n",
       "5  0.236433  0.263752  0.355490    ...     0.215961  0.234064  0.208681   \n",
       "6  0.348899  0.194606  0.292227    ...     0.455556  0.301443  0.228440   \n",
       "7  1.000000  0.338648  0.383886    ...     0.323970  0.322451  0.317744   \n",
       "8  0.338648  1.000000  0.443537    ...     0.225877  0.265049  0.253185   \n",
       "9  0.383886  0.443537  1.000000    ...     0.279827  0.299689  0.290423   \n",
       "\n",
       "      10374     10375     10376     10377     10378     10379     10380  \n",
       "0  0.328025  0.518853  0.138795  0.278589  0.276940  0.332991  0.381005  \n",
       "1  0.387492  0.473573  0.264381  0.250233  0.226892  0.158573  0.354357  \n",
       "2  0.297406  0.430997  0.172172  0.240824  0.364117  0.263435  0.304307  \n",
       "3  0.270369  0.387897  0.196768  0.276948  0.253299  0.284510  0.275778  \n",
       "4  0.287072  0.463725  0.125354  0.225018  0.282395  0.214817  0.306951  \n",
       "5  0.346109  0.223893  0.219034  0.361903  0.229095  0.451599  0.370500  \n",
       "6  0.218026  0.411919  0.176304  0.334457  0.212771  0.283246  0.306741  \n",
       "7  0.395520  0.449323  0.322590  0.242965  0.271523  0.223253  0.287824  \n",
       "8  0.410792  0.242536  0.442909  0.149071  0.160357  0.130454  0.181946  \n",
       "9  0.450268  0.311592  0.285779  0.233177  0.245256  0.228543  0.309376  \n",
       "\n",
       "[10 rows x 10381 columns]"
      ]
     },
     "execution_count": 40,
     "metadata": {},
     "output_type": "execute_result"
    }
   ],
   "source": [
    "c_vectorized_m2m.head(10)"
   ]
  },
  {
   "cell_type": "code",
   "execution_count": null,
   "metadata": {},
   "outputs": [],
   "source": [
    "c_vectorized_m2m_similarity = c_vectorized_m2m.stack().reset_index()"
   ]
  },
  {
   "cell_type": "code",
   "execution_count": null,
   "metadata": {},
   "outputs": [],
   "source": [
    "c_vectorized_m2m_similarity.columns = ['first_movie', 'second_movie', 'similarity_score']"
   ]
  },
  {
   "cell_type": "code",
   "execution_count": null,
   "metadata": {},
   "outputs": [],
   "source": [
    "c_vectorized_m2m_similarity.head(10)"
   ]
  },
  {
   "cell_type": "markdown",
   "metadata": {},
   "source": [
    "# TfIdf Vectorization"
   ]
  },
  {
   "cell_type": "code",
   "execution_count": null,
   "metadata": {},
   "outputs": [],
   "source": [
    "tfidf = TfidfVectorizer()"
   ]
  },
  {
   "cell_type": "code",
   "execution_count": null,
   "metadata": {},
   "outputs": [],
   "source": [
    "tfidf_vectorized = tfidf.fit_transform(dataset_with_tags.movie_tags)"
   ]
  },
  {
   "cell_type": "code",
   "execution_count": null,
   "metadata": {},
   "outputs": [],
   "source": [
    "tfidf_m2m = pd.DataFrame(cosine_similarity(tfidf_vectorized))"
   ]
  },
  {
   "cell_type": "code",
   "execution_count": null,
   "metadata": {},
   "outputs": [],
   "source": [
    "tfidf_m2m.head(10)"
   ]
  },
  {
   "cell_type": "code",
   "execution_count": null,
   "metadata": {},
   "outputs": [],
   "source": [
    "tfidf_m2m.ix[1].sort_values(ascending=False)[:20]"
   ]
  },
  {
   "cell_type": "code",
   "execution_count": null,
   "metadata": {},
   "outputs": [],
   "source": [
    "m2m_similarity = tfidf_m2m.stack().reset_index()"
   ]
  },
  {
   "cell_type": "code",
   "execution_count": null,
   "metadata": {},
   "outputs": [],
   "source": [
    "m2m_similarity.columns = ['first_movie', 'second_movie', 'similarity_score']"
   ]
  },
  {
   "cell_type": "code",
   "execution_count": null,
   "metadata": {},
   "outputs": [],
   "source": [
    "m2m_similarity.head(5)"
   ]
  },
  {
   "cell_type": "code",
   "execution_count": null,
   "metadata": {},
   "outputs": [],
   "source": [
    "m2m_similarity.tail(5)"
   ]
  }
 ],
 "metadata": {
  "kernelspec": {
   "display_name": "Python 3",
   "language": "python",
   "name": "python3"
  },
  "language_info": {
   "codemirror_mode": {
    "name": "ipython",
    "version": 3
   },
   "file_extension": ".py",
   "mimetype": "text/x-python",
   "name": "python",
   "nbconvert_exporter": "python",
   "pygments_lexer": "ipython3",
   "version": "3.6.8"
  }
 },
 "nbformat": 4,
 "nbformat_minor": 2
}
